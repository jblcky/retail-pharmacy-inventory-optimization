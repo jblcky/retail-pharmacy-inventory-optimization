{
  "nbformat": 4,
  "nbformat_minor": 0,
  "metadata": {
    "colab": {
      "provenance": [],
      "authorship_tag": "ABX9TyPmxne4ooi1YL09Pp3LOJAy",
      "include_colab_link": true
    },
    "kernelspec": {
      "name": "python3",
      "display_name": "Python 3"
    },
    "language_info": {
      "name": "python"
    }
  },
  "cells": [
    {
      "cell_type": "markdown",
      "metadata": {
        "id": "view-in-github",
        "colab_type": "text"
      },
      "source": [
        "<a href=\"https://colab.research.google.com/github/jblcky/retail-pharmacy-inventory-optimization/blob/main/notebooks/05_simulation.ipynb\" target=\"_parent\"><img src=\"https://colab.research.google.com/assets/colab-badge.svg\" alt=\"Open In Colab\"/></a>"
      ]
    },
    {
      "cell_type": "code",
      "execution_count": 1,
      "metadata": {
        "colab": {
          "base_uri": "https://localhost:8080/"
        },
        "id": "b2akpti7QxSb",
        "outputId": "877e8ec1-0739-4833-9ffe-d811e3b41c9d"
      },
      "outputs": [
        {
          "output_type": "stream",
          "name": "stdout",
          "text": [
            "Mounted at /content/drive\n",
            "✅ Simulation complete.\n",
            "📁 Saved to /content/drive/My Drive/inventory_simulation_results.csv\n"
          ]
        }
      ],
      "source": [
        "import pandas as pd\n",
        "import numpy as np\n",
        "import os\n",
        "from google.colab import drive\n",
        "\n",
        "# Mount Drive\n",
        "drive.mount('/content/drive')\n",
        "\n",
        "# Paths\n",
        "forecast_dir = '/content/drive/My Drive/sku_forecasts'\n",
        "inventory_plan_path = '/content/drive/My Drive/inventory_optimization_plan.csv'\n",
        "output_sim_path = '/content/drive/My Drive/inventory_simulation_results.csv'\n",
        "\n",
        "# Load inventory plan\n",
        "inv_df = pd.read_csv(inventory_plan_path)\n",
        "\n",
        "# Simulate for each SKU\n",
        "sim_results = []\n",
        "\n",
        "for _, row in inv_df.iterrows():\n",
        "    sku = row['sku_id']\n",
        "    EOQ = row['EOQ']\n",
        "    ROP = row['ROP']\n",
        "\n",
        "    forecast_path = f\"{forecast_dir}/{sku}_forecast.csv\"\n",
        "    if not os.path.exists(forecast_path):\n",
        "        print(f\"⚠️ Missing forecast for {sku}, skipping.\")\n",
        "        continue\n",
        "\n",
        "    forecast_df = pd.read_csv(forecast_path, parse_dates=['ds'])\n",
        "    forecast_df = forecast_df[['ds', 'yhat']].copy()\n",
        "    forecast_df['yhat'] = forecast_df['yhat'].clip(lower=0).round().astype(int)\n",
        "    forecast_df['week'] = forecast_df['ds'].dt.isocalendar().week\n",
        "\n",
        "    # Initialize simulation\n",
        "    inventory = EOQ  # start with 1 EOQ batch\n",
        "    reorder_qty = EOQ\n",
        "    reorder_lead_time = 1  # weeks\n",
        "    pending_orders = []\n",
        "    reorder_log = []\n",
        "\n",
        "    for i, rowf in forecast_df.iterrows():\n",
        "        week = rowf['ds']\n",
        "        demand = rowf['yhat']\n",
        "\n",
        "        # Receive any deliveries\n",
        "        pending_orders = [(wk, qty) for wk, qty in pending_orders if wk > week]\n",
        "        arrived = sum(qty for wk, qty in pending_orders if wk == week)\n",
        "        inventory += arrived\n",
        "\n",
        "        # Fulfill demand\n",
        "        sales = min(demand, inventory)\n",
        "        stockout = max(0, demand - inventory)\n",
        "        inventory -= sales\n",
        "\n",
        "        # Check ROP and reorder if needed\n",
        "        if inventory <= ROP:\n",
        "            pending_orders.append((week + pd.Timedelta(weeks=reorder_lead_time), reorder_qty))\n",
        "            reorder_log.append((week, reorder_qty))\n",
        "\n",
        "        # Log result\n",
        "        sim_results.append({\n",
        "            'sku_id': sku,\n",
        "            'week': week,\n",
        "            'forecast_demand': demand,\n",
        "            'sales': sales,\n",
        "            'stockout': stockout,\n",
        "            'inventory_level': inventory\n",
        "        })\n",
        "\n",
        "print(\"✅ Simulation complete.\")\n",
        "\n",
        "# Save simulation results\n",
        "sim_df = pd.DataFrame(sim_results)\n",
        "sim_df.to_csv(output_sim_path, index=False)\n",
        "print(f\"📁 Saved to {output_sim_path}\")\n"
      ]
    },
    {
      "cell_type": "code",
      "source": [],
      "metadata": {
        "id": "YMdgPWTyRNSj"
      },
      "execution_count": null,
      "outputs": []
    }
  ]
}